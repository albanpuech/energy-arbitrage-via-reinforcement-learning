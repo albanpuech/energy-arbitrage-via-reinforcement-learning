{
 "cells": [
  {
   "cell_type": "code",
   "execution_count": 1,
   "metadata": {},
   "outputs": [],
   "source": [
    "import matplotlib.pyplot as plt"
   ]
  },
  {
   "cell_type": "code",
   "execution_count": 32,
   "metadata": {},
   "outputs": [],
   "source": [
    "import gym\n",
    "from gym import spaces\n",
    "import numpy as np\n",
    "import pandas as pd\n",
    "\n",
    "\n",
    "\n",
    "def get_dataset(path=\"data/european_wholesale_electricity_price_data_hourly.csv\", year=\"2016\",country=\"Germany\", usecols=[\"Datetime (Local)\", \"Price (EUR/MWhe)\", \"Country\"]):\n",
    "    df = pd.read_csv(path,usecols=usecols)\n",
    "    df = df[df.Country == country]\n",
    "    df = df[df[\"Datetime (Local)\"] > \"2020-01-01 00:00:00\"]\n",
    "    df.drop([\"Country\"], axis=1, inplace=True)\n",
    "    df.rename({\"Datetime (Local)\": \"timestamp\",\n",
    "                \"Price (EUR/MWhe)\": \"price\"}, axis=1,inplace=True,errors=\"raise\")\n",
    "    df.price = df.price \n",
    "    df = df.reset_index()\n",
    "    return df\n",
    "\n",
    "\n",
    "class Battery(gym.Env):\n",
    "\n",
    "    def __init__(self, render_mode=None, df=None, k=5, NEC=10**5):\n",
    "\n",
    "        self.NEC = NEC\n",
    "        self.E1H = NEC/2\n",
    "        self.k = k\n",
    "        self.df = df if len(df)>0 else get_dataset()\n",
    "        self.df[\"mean_price\"] = self.df.price.rolling(self.k).mean()\n",
    "        self.price = self.df.price.to_numpy()\n",
    "        self.mean_price = self.df.mean_price.to_numpy()\n",
    "        self.n_hours = len(self.df)\n",
    "        self.SOC = np.zeros(self.n_hours)\n",
    "\n",
    "        self.observation_space = spaces.Box(low=np.array([-1000 for _ in range(k)] + [0.0 for _ in range(k)]), high=np.array([1000 for _ in range(k)] + [1.0 for _ in range(k)]), shape=(k * 2,),dtype=np.float64)\n",
    "\n",
    "        # We have 3 actions, corresponding to \"charge, hold, discharge\"\n",
    "        self.action_space = spaces.Discrete(3)\n",
    "\n",
    "    def _get_obs(self):\n",
    "        return np.concatenate([self.price[self.hour-self.k+1:self.hour+1],\n",
    "                          self.SOC[self.hour-self.k:self.hour]])\n",
    "\n",
    "    def _get_info(self):\n",
    "        return None # self.df.loc[self.hour]\n",
    "\n",
    "    def reset(self, seed=None, options=None):\n",
    "        self.hour = self.k\n",
    "        observation = self._get_obs()\n",
    "        # info = self._get_info()\n",
    "\n",
    "        return observation\n",
    "\n",
    "    def step(self, action):\n",
    "        if action == 0:\n",
    "            self.SOC[self.hour] = max(\n",
    "                0,  (self.SOC[self.hour-1]*self.NEC - self.E1H) / self.NEC)\n",
    "\n",
    "        elif action == 1:\n",
    "            self.SOC[self.hour] = self.SOC[self.hour-1]\n",
    "\n",
    "        elif action == 2:\n",
    "            self.SOC[self.hour] = min(\n",
    "                1,  (self.SOC[self.hour-1]*self.NEC + self.E1H) / self.NEC)\n",
    "\n",
    "        reward = (action-1) * \\\n",
    "            (self.mean_price[self.hour] - self.price[self.hour])\n",
    "\n",
    "        self.hour += 1\n",
    "        terminated = self.hour == self.n_hours\n",
    "        obs = self._get_obs() if not terminated else None\n",
    "\n",
    "        return obs, reward, (self.hour == self.n_hours), {}\n",
    "\n",
    "\n",
    "\n"
   ]
  },
  {
   "cell_type": "code",
   "execution_count": 3,
   "metadata": {},
   "outputs": [],
   "source": [
    "df = get_dataset()"
   ]
  },
  {
   "cell_type": "code",
   "execution_count": 33,
   "metadata": {},
   "outputs": [
    {
     "data": {
      "text/plain": [
       "array([36.55, 32.32, 30.85, 30.14, 30.17,  0.  ,  0.  ,  0.  ,  0.  ,\n",
       "        0.  ])"
      ]
     },
     "execution_count": 33,
     "metadata": {},
     "output_type": "execute_result"
    }
   ],
   "source": [
    "bat = Battery(df=df)\n",
    "bat.reset()\n",
    "# terminated = False\n",
    "\n",
    "# reward_list = []\n",
    "# observation_list = []\n",
    "\n",
    "# while not terminated :\n",
    "#     action = bat.action_space.sample()\n",
    "#     observation, reward, terminated, _, _ = bat.step(action)\n",
    "#     # assert len(observation[1]) ==5 \n",
    "#     reward_list.append(reward)\n",
    "#     observation_list.append(observation)\n"
   ]
  },
  {
   "cell_type": "code",
   "execution_count": 22,
   "metadata": {},
   "outputs": [
    {
     "data": {
      "text/plain": [
       "array([ 1.85118388e+02, -5.17648452e+02,  7.52954542e+02, -8.40249487e+02,\n",
       "        8.92081184e+02,  8.21657144e-01,  9.46999864e-01,  2.59428078e-01,\n",
       "        7.05342966e-01,  5.28402604e-01])"
      ]
     },
     "execution_count": 22,
     "metadata": {},
     "output_type": "execute_result"
    }
   ],
   "source": [
    "# bat.reset()\n",
    "bat.observation_space.sample()"
   ]
  },
  {
   "cell_type": "code",
   "execution_count": 23,
   "metadata": {},
   "outputs": [
    {
     "data": {
      "text/plain": [
       "array([36.55, 32.32, 30.85, 30.14, 30.17,  0.  ,  0.  ,  0.  ,  0.  ,\n",
       "        0.  ])"
      ]
     },
     "execution_count": 23,
     "metadata": {},
     "output_type": "execute_result"
    }
   ],
   "source": [
    "bat.reset()"
   ]
  },
  {
   "cell_type": "code",
   "execution_count": 34,
   "metadata": {},
   "outputs": [],
   "source": [
    "from stable_baselines3.common.env_checker import check_env\n",
    "check_env(bat)"
   ]
  },
  {
   "cell_type": "code",
   "execution_count": 38,
   "metadata": {},
   "outputs": [
    {
     "data": {
      "text/plain": [
       "<AxesSubplot: >"
      ]
     },
     "execution_count": 38,
     "metadata": {},
     "output_type": "execute_result"
    },
    {
     "data": {
      "image/png": "[encoded data removed]",
      "text/plain": [
       "<Figure size 640x480 with 1 Axes>"
      ]
     },
     "metadata": {},
     "output_type": "display_data"
    }
   ],
   "source": [
    "df[24*5-1:24*5+24-1].price.plot(x=\"timestamp\")"
   ]
  },
  {
   "cell_type": "code",
   "execution_count": 29,
   "metadata": {},
   "outputs": [],
   "source": [
    "import gym\n",
    "\n",
    "from stable_baselines3 import DQN"
   ]
  },
  {
   "cell_type": "code",
   "execution_count": 38,
   "metadata": {},
   "outputs": [
    {
     "data": {
      "text/plain": [
       "26304"
      ]
     },
     "execution_count": 38,
     "metadata": {},
     "output_type": "execute_result"
    }
   ],
   "source": [
    "len(df)"
   ]
  },
  {
   "cell_type": "code",
   "execution_count": null,
   "metadata": {},
   "outputs": [],
   "source": [
    "\n",
    "training_env = Battery(df=df[:3000])\n",
    "training_env.reset()\n",
    "model = DQN(\"MlpPolicy\", training_env, verbose=1)\n",
    "model.learn(total_timesteps=10000, log_interval=4)\n",
    "# model.save(\"dqn_cartpole\")\n",
    "\n",
    "# del model # remove to demonstrate saving and loading\n",
    "\n",
    "# model = DQN.load(\"dqn_cartpole\")\n",
    "\n",
    "\n"
   ]
  },
  {
   "cell_type": "code",
   "execution_count": 44,
   "metadata": {},
   "outputs": [
    {
     "name": "stderr",
     "output_type": "stream",
     "text": [
      "C:\\Users\\Alban\\AppData\\Local\\Temp\\ipykernel_14480\\2968471596.py:28: SettingWithCopyWarning: \n",
      "A value is trying to be set on a copy of a slice from a DataFrame.\n",
      "Try using .loc[row_indexer,col_indexer] = value instead\n",
      "\n",
      "See the caveats in the documentation: https://pandas.pydata.org/pandas-docs/stable/user_guide/indexing.html#returning-a-view-versus-a-copy\n",
      "  self.df[\"mean_price\"] = self.df.price.rolling(self.k).mean()\n"
     ]
    },
    {
     "name": "stdout",
     "output_type": "stream",
     "text": [
      "2999\r"
     ]
    }
   ],
   "source": [
    "test_env = Battery(df=df[3000:6000])\n",
    "obs = test_env.reset()\n",
    "reward_list = []\n",
    "\n",
    "while True:\n",
    "    print(test_env.hour,end=\"\\r\")\n",
    "    action, _states = model.predict(obs, deterministic=True)\n",
    "    obs, reward, done, _ = test_env.step(action)\n",
    "    reward_list.append(reward)\n",
    "    if done : break\n"
   ]
  },
  {
   "cell_type": "code",
   "execution_count": 48,
   "metadata": {},
   "outputs": [
    {
     "name": "stdout",
     "output_type": "stream",
     "text": [
      "2999\r"
     ]
    },
    {
     "name": "stderr",
     "output_type": "stream",
     "text": [
      "C:\\Users\\Alban\\AppData\\Local\\Temp\\ipykernel_14480\\2968471596.py:28: SettingWithCopyWarning: \n",
      "A value is trying to be set on a copy of a slice from a DataFrame.\n",
      "Try using .loc[row_indexer,col_indexer] = value instead\n",
      "\n",
      "See the caveats in the documentation: https://pandas.pydata.org/pandas-docs/stable/user_guide/indexing.html#returning-a-view-versus-a-copy\n",
      "  self.df[\"mean_price\"] = self.df.price.rolling(self.k).mean()\n"
     ]
    }
   ],
   "source": [
    "test_env = Battery(df=df[3000:6000])\n",
    "obs = test_env.reset()\n",
    "reward_list = []\n",
    "\n",
    "while True:\n",
    "    print(test_env.hour,end=\"\\r\")\n",
    "    action = test_env.action_space.sample()\n",
    "    obs, reward, done, _ = test_env.step(action)\n",
    "    reward_list.append(reward)\n",
    "    if done : break\n"
   ]
  },
  {
   "cell_type": "code",
   "execution_count": 49,
   "metadata": {},
   "outputs": [
    {
     "data": {
      "text/plain": [
       "0.03350050083472454"
      ]
     },
     "execution_count": 49,
     "metadata": {},
     "output_type": "execute_result"
    }
   ],
   "source": [
    "np.mean(reward_list)"
   ]
  }
 ],
 "metadata": {
  "kernelspec": {
   "display_name": "Python 3",
   "language": "python",
   "name": "python3"
  },
  "language_info": {
   "codemirror_mode": {
    "name": "ipython",
    "version": 3
   },
   "file_extension": ".py",
   "mimetype": "text/x-python",
   "name": "python",
   "nbconvert_exporter": "python",
   "pygments_lexer": "ipython3",
   "version": "3.10.9"
  },
  "orig_nbformat": 4,
  "vscode": {
   "interpreter": {
    "hash": "0bdfae08e3bf9ffe83b7b25a755cae125f279ebcd910909ee363280db2866d0d"
   }
  }
 },
 "nbformat": 4,
 "nbformat_minor": 2
}
