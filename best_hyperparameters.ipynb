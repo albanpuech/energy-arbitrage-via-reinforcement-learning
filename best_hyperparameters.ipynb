{
 "cells": [
  {
   "cell_type": "code",
   "execution_count": 1,
   "metadata": {},
   "outputs": [],
   "source": [
    "import pandas as pd\n",
    "import numpy as np\n",
    "\n",
    "from dataset import get_dataset, add_derivatives\n",
    "from env_discrete import BatteryDiscrete\n",
    "from qlearning import QLearning\n",
    "\n",
    "from sklearn.preprocessing import MinMaxScaler\n",
    "\n",
    "from tqdm import tqdm\n",
    "\n",
    "from plot import display_profit, display_schedule\n",
    "import plotly.express as px\n",
    "import plotly.graph_objects as go\n",
    "from plotly.subplots import make_subplots\n",
    "\n",
    "import datetime\n",
    "import warnings\n"
   ]
  },
  {
   "cell_type": "code",
   "execution_count": 2,
   "metadata": {},
   "outputs": [],
   "source": [
    "df = get_dataset()"
   ]
  },
  {
   "cell_type": "code",
   "execution_count": 3,
   "metadata": {},
   "outputs": [],
   "source": [
    "df_train = df[df.timestamp.dt.year==2020].reset_index(drop=True)\n",
    "df_test = df[df.timestamp.dt.year==2021].reset_index(drop=True)\n",
    "\n",
    "scaler = MinMaxScaler()\n",
    "df_train[\"scaled_price\"] = scaler.fit_transform(df_train.price.to_numpy().reshape(-1, 1))\n",
    "df_test[\"scaled_price\"]  = scaler.transform(df_test.price.to_numpy().reshape(-1, 1))"
   ]
  },
  {
   "cell_type": "code",
   "execution_count": 4,
   "metadata": {},
   "outputs": [],
   "source": [
    "price_over_daily_mean_bins = 5#5\n",
    "rolling_windows_price_over_mean = 5\n",
    "\n",
    "df_train[\"price_over_daily_mean\"] = (df_train[\"scaled_price\"]/df_train[\"scaled_price\"].rolling(rolling_windows_price_over_mean).mean()).to_numpy()\n",
    "df_test[\"price_over_daily_mean\"]  = (df_test[\"scaled_price\"]/df_test[\"scaled_price\"].rolling(rolling_windows_price_over_mean).mean()).to_numpy()\n",
    "\n",
    "df_train[\"price_over_daily_mean\"], price_over_daily_mean_quantiles = pd.qcut(df_train.price_over_daily_mean, q=price_over_daily_mean_bins, retbins=True, labels=[i for i in range(price_over_daily_mean_bins)])\n",
    "price_over_daily_mean_quantiles[0], price_over_daily_mean_quantiles[-1] = -np.inf, np.inf\n",
    "df_test[\"price_over_daily_mean\"] = pd.cut(df_test.price_over_daily_mean, bins=price_over_daily_mean_quantiles, labels=[i for i in range(price_over_daily_mean_bins)])\n",
    "\n"
   ]
  },
  {
   "cell_type": "code",
   "execution_count": 5,
   "metadata": {},
   "outputs": [],
   "source": [
    "price_slope_1_bins = 20 #20\n",
    "price_slope_2_bins = 20 #20\n",
    "rolling_windows_slope_1 = 3\n",
    "rolling_windows_slope_2 = 1\n",
    "\n",
    "df_train = add_derivatives(df_train, \"price\" , \"price_slope_1\", rolling_windows=rolling_windows_slope_1, shift=1)\n",
    "df_train = add_derivatives(df_train, \"price\" , \"price_slope_2\", rolling_windows=rolling_windows_slope_2, shift=0)\n",
    "\n",
    "df_test = add_derivatives(df_test, \"price\" , \"price_slope_1\", rolling_windows=rolling_windows_slope_1, shift=1)\n",
    "df_test = add_derivatives(df_test, \"price\" , \"price_slope_2\", rolling_windows=rolling_windows_slope_2, shift=0)\n",
    "\n",
    "\n",
    "df_train[\"price_slope_1\"], price_slope_1_quantiles = pd.qcut(df_train.price_slope_1, q=price_slope_1_bins, retbins=True, labels=[i for i in range(price_slope_1_bins)])\n",
    "price_slope_1_quantiles[0], price_slope_1_quantiles[-1] = -np.inf, np.inf\n",
    "df_test[\"price_slope_1\"] = pd.cut(df_test.price_slope_1, bins=price_slope_1_quantiles, labels=[i for i in range(price_slope_1_bins)])\n",
    "\n",
    "df_train[\"price_slope_2\"], price_slope_2_quantiles = pd.qcut(df_train.price_slope_2, q=price_slope_2_bins, retbins=True, labels=[i for i in range(price_slope_2_bins)])\n",
    "price_slope_2_quantiles[0], price_slope_2_quantiles[-1] = -np.inf, np.inf\n",
    "df_test[\"price_slope_2\"] = pd.cut(df_test.price_slope_2, bins=price_slope_2_quantiles, labels=[i for i in range(price_slope_2_bins)])\n",
    "\n"
   ]
  },
  {
   "attachments": {},
   "cell_type": "markdown",
   "metadata": {},
   "source": [
    "# Get environments"
   ]
  },
  {
   "cell_type": "code",
   "execution_count": 6,
   "metadata": {},
   "outputs": [],
   "source": [
    "price_bins = None\n",
    "price_quantiles = None\n",
    "\n",
    "def reward(env, action):\n",
    "    if action == 2:\n",
    "        return env.scaled_price[env.hour] - env.buying_price\n",
    "    \n",
    "    if action == 0:\n",
    "        return (env.scaled_price[env.hour-3:env.hour].max() - env.scaled_price[env.hour]) * 2\n",
    "    \n",
    "    return 0\n",
    "# reward=None\n",
    "\n",
    "\n",
    "discrete_cols = [\n",
    "    (\"price_slope_1\",price_slope_1_bins),\n",
    "    (\"price_slope_2\",price_slope_2_bins),\n",
    "    (\"price_over_daily_mean\" , price_over_daily_mean_bins)\n",
    "]\n",
    "\n",
    "train_env = BatteryDiscrete(df_train, k=5, discrete_cols=discrete_cols, start_hour=max([rolling_windows_slope_1,rolling_windows_slope_2,rolling_windows_price_over_mean])+2, price_bins=price_quantiles, reward_function=reward)\n",
    "test_env = BatteryDiscrete(df_test, k=5, discrete_cols=discrete_cols, start_hour=max([rolling_windows_slope_1,rolling_windows_slope_2,rolling_windows_price_over_mean])+2, price_bins=price_quantiles, reward_function=reward)"
   ]
  },
  {
   "attachments": {},
   "cell_type": "markdown",
   "metadata": {},
   "source": [
    "# Q-Learning policy"
   ]
  },
  {
   "cell_type": "code",
   "execution_count": 7,
   "metadata": {},
   "outputs": [
    {
     "name": "stdout",
     "output_type": "stream",
     "text": [
      "(20, 20, 5, 3, 3)\n",
      "325.45203337382884\n",
      "692.482\n",
      "823.2401181421232\n",
      "1598.0055\n"
     ]
    }
   ],
   "source": [
    "model = QLearning(train_env, discrete_cols,price_quantiles, nactions=3,epsilon=0.1,gamma=0.1,alpha=0.01)\n",
    "\n",
    "print(model.Q.shape)\n",
    "\n",
    "train_env.reset()\n",
    "# model.Q[:,:,:,0,0] = - 1# if SOC == 0 (action 0), action 0 (discharge) is impossible\n",
    "# model.Q[:,:,:,2,2] = - 1 # if SOC == 1 (index 2), action 2 (charge) is impossible\n",
    "\n",
    "model.Q[:,:,:,:,1] = - 0.1\n",
    "\n",
    "# model.Q[:,:,0,2,1] =  -1 # if super small price over mean, and charged, then force hold \n",
    "# model.Q[:,:,price_over_daily_mean_bins-1,1,0] =  0.5 # if super small price over mean, and half charged, then force hold \n",
    "\n",
    "model.Q_update_count[:,:,:,0,0] = 1\n",
    "model.Q_update_count[:,:,:,2,2] = 1\n",
    "model.learn(total_timesteps=len(df_train)*10)\n",
    "\n",
    "cum_reward, df_optim = train_env.test(model)\n",
    "print(cum_reward)\n",
    "print(-(df_optim.price*df_optim.schedule).sum()/10**6)\n",
    "\n",
    "cum_reward, df_optim = test_env.test(model)\n",
    "print(cum_reward)\n",
    "print(-(df_optim.price*df_optim.schedule).sum()/10**6)"
   ]
  }
 ],
 "metadata": {
  "kernelspec": {
   "display_name": "Python 3",
   "language": "python",
   "name": "python3"
  },
  "language_info": {
   "codemirror_mode": {
    "name": "ipython",
    "version": 3
   },
   "file_extension": ".py",
   "mimetype": "text/x-python",
   "name": "python",
   "nbconvert_exporter": "python",
   "pygments_lexer": "ipython3",
   "version": "3.10.9"
  },
  "orig_nbformat": 4,
  "vscode": {
   "interpreter": {
    "hash": "0bdfae08e3bf9ffe83b7b25a755cae125f279ebcd910909ee363280db2866d0d"
   }
  }
 },
 "nbformat": 4,
 "nbformat_minor": 2
}
